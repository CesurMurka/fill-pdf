{
  "nbformat": 4,
  "nbformat_minor": 0,
  "metadata": {
    "colab": {
      "provenance": []
    },
    "kernelspec": {
      "name": "python3",
      "display_name": "Python 3"
    },
    "language_info": {
      "name": "python"
    }
  },
  "cells": [
    {
      "cell_type": "code",
      "source": [
        "#Welcome my dear colleague :) Change the name of the sheet and measurement number\n",
        "# Press CTRL+F9\n",
        "# Wait and when a prompt from google drive appears, press \"Authenticate\"\n",
        "\n",
        "# Measurement number 1-6\n",
        "cislo_merania = 4\n",
        "\n",
        "# Sheet name\n",
        "sheet_name = 'TSEI automatika JUN 2 pacientTLAC'"
      ],
      "metadata": {
        "id": "maMTvj8Rdzo1"
      },
      "execution_count": 3,
      "outputs": []
    },
    {
      "cell_type": "code",
      "source": [
        "!pip install fillpdf\n",
        "# https://pypi.org/project/fillpdf/"
      ],
      "metadata": {
        "colab": {
          "base_uri": "https://localhost:8080/"
        },
        "id": "4sorenKIDe8W",
        "outputId": "f19f1d44-dc48-4f9e-ae0a-4445331bd504"
      },
      "execution_count": 4,
      "outputs": [
        {
          "output_type": "stream",
          "name": "stdout",
          "text": [
            "Collecting fillpdf\n",
            "  Downloading fillpdf-0.7.2-py3-none-any.whl (15 kB)\n",
            "Collecting pdfrw2 (from fillpdf)\n",
            "  Downloading pdfrw2-0.5.0-py2.py3-none-any.whl (60 kB)\n",
            "\u001b[?25l     \u001b[90m━━━━━━━━━━━━━━━━━━━━━━━━━━━━━━━━━━━━━━━━\u001b[0m \u001b[32m0.0/60.6 kB\u001b[0m \u001b[31m?\u001b[0m eta \u001b[36m-:--:--\u001b[0m\r\u001b[2K     \u001b[90m━━━━━━━━━━━━━━━━━━━━━━━━━━━━━━━━━━━━━━━━\u001b[0m \u001b[32m60.6/60.6 kB\u001b[0m \u001b[31m2.5 MB/s\u001b[0m eta \u001b[36m0:00:00\u001b[0m\n",
            "\u001b[?25hCollecting pdf2image (from fillpdf)\n",
            "  Downloading pdf2image-1.16.3-py3-none-any.whl (11 kB)\n",
            "Requirement already satisfied: Pillow in /usr/local/lib/python3.10/dist-packages (from fillpdf) (8.4.0)\n",
            "Collecting pymupdf (from fillpdf)\n",
            "  Downloading PyMuPDF-1.22.5-cp310-cp310-manylinux_2_17_x86_64.manylinux2014_x86_64.whl (14.1 MB)\n",
            "\u001b[2K     \u001b[90m━━━━━━━━━━━━━━━━━━━━━━━━━━━━━━━━━━━━━━━━\u001b[0m \u001b[32m14.1/14.1 MB\u001b[0m \u001b[31m60.3 MB/s\u001b[0m eta \u001b[36m0:00:00\u001b[0m\n",
            "\u001b[?25hInstalling collected packages: pdfrw2, pymupdf, pdf2image, fillpdf\n",
            "Successfully installed fillpdf-0.7.2 pdf2image-1.16.3 pdfrw2-0.5.0 pymupdf-1.22.5\n"
          ]
        }
      ]
    },
    {
      "cell_type": "code",
      "source": [
        "#from google.colab import drive\n",
        "#drive.mount('/mntDrive/')"
      ],
      "metadata": {
        "id": "K4U-8UrmjJ2e"
      },
      "execution_count": 5,
      "outputs": []
    },
    {
      "cell_type": "code",
      "source": [
        "import pandas as pd"
      ],
      "metadata": {
        "id": "h44RDkwYmP2O"
      },
      "execution_count": 6,
      "outputs": []
    },
    {
      "cell_type": "code",
      "source": [
        "from google.colab import auth\n",
        "auth.authenticate_user()\n",
        "\n"
      ],
      "metadata": {
        "id": "3vpLn5SgjNWd"
      },
      "execution_count": 7,
      "outputs": []
    },
    {
      "cell_type": "code",
      "source": [
        "import gspread\n",
        "from google.auth import default\n",
        "creds, _ = default()\n",
        "\n",
        "gc = gspread.authorize(creds)"
      ],
      "metadata": {
        "id": "_Cy0nf8KxkYa"
      },
      "execution_count": 8,
      "outputs": []
    },
    {
      "cell_type": "code",
      "source": [
        "! gdown --id 1eWhRtHsjQUBqvMDdDFJt80CEKf_rPnhN"
      ],
      "metadata": {
        "colab": {
          "base_uri": "https://localhost:8080/"
        },
        "id": "zLpIGmNKlLgZ",
        "outputId": "f38f0ca4-6825-46a5-ca9e-a99fd1bace82"
      },
      "execution_count": 9,
      "outputs": [
        {
          "output_type": "stream",
          "name": "stdout",
          "text": [
            "/usr/local/lib/python3.10/dist-packages/gdown/cli.py:121: FutureWarning: Option `--id` was deprecated in version 4.3.1 and will be removed in 5.0. You don't need to pass it anymore to use a file ID.\n",
            "  warnings.warn(\n",
            "Downloading...\n",
            "From: https://drive.google.com/uc?id=1eWhRtHsjQUBqvMDdDFJt80CEKf_rPnhN\n",
            "To: /content/template.pdf\n",
            "100% 452k/452k [00:00<00:00, 99.7MB/s]\n"
          ]
        }
      ]
    },
    {
      "cell_type": "code",
      "source": [
        "worksheet = gc.open(sheet_name)\n",
        "\n",
        "worksheet_list = worksheet.worksheets()\n",
        "worksheet_list"
      ],
      "metadata": {
        "id": "w4mnuwumkByu",
        "colab": {
          "base_uri": "https://localhost:8080/"
        },
        "outputId": "fe91a567-9eee-4568-8248-eb2ea9fed632"
      },
      "execution_count": 10,
      "outputs": [
        {
          "output_type": "execute_result",
          "data": {
            "text/plain": [
              "[<Worksheet 'Spolu Vyhodnotenie' id:1283777913>,\n",
              " <Worksheet '1f1_8p' id:1478099426>,\n",
              " <Worksheet '1f2_8p' id:1568330821>,\n",
              " <Worksheet '2f1_4p_priame' id:1613645308>,\n",
              " <Worksheet '2f2_4P_sikme' id:1759751675>,\n",
              " <Worksheet '3f1_4p_priame' id:1940248079>,\n",
              " <Worksheet '3f2_4P_sikme' id:1605614275>,\n",
              " <Worksheet 'Kumulativna Dávka' id:1043066584>,\n",
              " <Worksheet 'Automatické Vyplnenie Návod' id:240575350>,\n",
              " <Worksheet 'Kalibrácia' id:1465413247>]"
            ]
          },
          "metadata": {},
          "execution_count": 10
        }
      ]
    },
    {
      "cell_type": "code",
      "source": [
        "worksheet_sheet = worksheet.get_worksheet(cislo_merania)"
      ],
      "metadata": {
        "id": "oigFT_tYk8d3"
      },
      "execution_count": 11,
      "outputs": []
    },
    {
      "cell_type": "code",
      "source": [
        "worksheet_sheet"
      ],
      "metadata": {
        "colab": {
          "base_uri": "https://localhost:8080/"
        },
        "id": "A-KQ-jSXl5rv",
        "outputId": "f1c320e4-e18e-4771-c33c-db4ffcfea2b6"
      },
      "execution_count": 12,
      "outputs": [
        {
          "output_type": "execute_result",
          "data": {
            "text/plain": [
              "<Worksheet '2f2_4P_sikme' id:1759751675>"
            ]
          },
          "metadata": {},
          "execution_count": 12
        }
      ]
    },
    {
      "cell_type": "code",
      "source": [
        "#get_all_values gives a list of rows\n",
        "rows = worksheet_sheet.get_all_values()\n",
        "#Convert to a DataFrame\n",
        "df = pd.DataFrame(rows)\n",
        "\n",
        "#set column names equal to values in row index position 0\n",
        "df.columns = df.iloc[0]\n",
        "#remove first row from DataFrame\n",
        "df = df[1:]\n",
        "\n",
        "df.head()"
      ],
      "metadata": {
        "colab": {
          "base_uri": "https://localhost:8080/",
          "height": 206
        },
        "id": "BIBEliaxmILv",
        "outputId": "e343ffdc-bf62-4dd8-cfef-f7c2bfe7081e"
      },
      "execution_count": 13,
      "outputs": [
        {
          "output_type": "execute_result",
          "data": {
            "text/plain": [
              "0           Oblasť TLD     Ri        kki Dávka          Kq= 0.84             \\\n",
              "1       vrch.hlavy  61  30174    4.3E-05  1.29                       Dátum    \n",
              "2    vrch.hlavy dx  62  28600    4.4E-05  1.27                                \n",
              "3  vrch. hlavy sin  63   4205    4.2E-05  0.18                    Nepoužité   \n",
              "4      nad ucho dx  64   8250    4.7E-05  0.39                                \n",
              "5     nad ucho sin  65  24683    4.3E-05  1.06    MU:200 na pole              \n",
              "\n",
              "0               \n",
              "1    30.6.2023  \n",
              "2               \n",
              "3  67,119, 120  \n",
              "4               \n",
              "5               "
            ],
            "text/html": [
              "\n",
              "\n",
              "  <div id=\"df-eae17f64-c272-4a6b-9898-487ce82bc342\">\n",
              "    <div class=\"colab-df-container\">\n",
              "      <div>\n",
              "<style scoped>\n",
              "    .dataframe tbody tr th:only-of-type {\n",
              "        vertical-align: middle;\n",
              "    }\n",
              "\n",
              "    .dataframe tbody tr th {\n",
              "        vertical-align: top;\n",
              "    }\n",
              "\n",
              "    .dataframe thead th {\n",
              "        text-align: right;\n",
              "    }\n",
              "</style>\n",
              "<table border=\"1\" class=\"dataframe\">\n",
              "  <thead>\n",
              "    <tr style=\"text-align: right;\">\n",
              "      <th></th>\n",
              "      <th>Oblasť</th>\n",
              "      <th>TLD</th>\n",
              "      <th>Ri</th>\n",
              "      <th></th>\n",
              "      <th>kki</th>\n",
              "      <th>Dávka</th>\n",
              "      <th></th>\n",
              "      <th>Kq= 0.84</th>\n",
              "      <th></th>\n",
              "      <th></th>\n",
              "    </tr>\n",
              "  </thead>\n",
              "  <tbody>\n",
              "    <tr>\n",
              "      <th>1</th>\n",
              "      <td>vrch.hlavy</td>\n",
              "      <td>61</td>\n",
              "      <td>30174</td>\n",
              "      <td></td>\n",
              "      <td>4.3E-05</td>\n",
              "      <td>1.29</td>\n",
              "      <td></td>\n",
              "      <td></td>\n",
              "      <td>Dátum</td>\n",
              "      <td>30.6.2023</td>\n",
              "    </tr>\n",
              "    <tr>\n",
              "      <th>2</th>\n",
              "      <td>vrch.hlavy dx</td>\n",
              "      <td>62</td>\n",
              "      <td>28600</td>\n",
              "      <td></td>\n",
              "      <td>4.4E-05</td>\n",
              "      <td>1.27</td>\n",
              "      <td></td>\n",
              "      <td></td>\n",
              "      <td></td>\n",
              "      <td></td>\n",
              "    </tr>\n",
              "    <tr>\n",
              "      <th>3</th>\n",
              "      <td>vrch. hlavy sin</td>\n",
              "      <td>63</td>\n",
              "      <td>4205</td>\n",
              "      <td></td>\n",
              "      <td>4.2E-05</td>\n",
              "      <td>0.18</td>\n",
              "      <td></td>\n",
              "      <td></td>\n",
              "      <td>Nepoužité</td>\n",
              "      <td>67,119, 120</td>\n",
              "    </tr>\n",
              "    <tr>\n",
              "      <th>4</th>\n",
              "      <td>nad ucho dx</td>\n",
              "      <td>64</td>\n",
              "      <td>8250</td>\n",
              "      <td></td>\n",
              "      <td>4.7E-05</td>\n",
              "      <td>0.39</td>\n",
              "      <td></td>\n",
              "      <td></td>\n",
              "      <td></td>\n",
              "      <td></td>\n",
              "    </tr>\n",
              "    <tr>\n",
              "      <th>5</th>\n",
              "      <td>nad ucho sin</td>\n",
              "      <td>65</td>\n",
              "      <td>24683</td>\n",
              "      <td></td>\n",
              "      <td>4.3E-05</td>\n",
              "      <td>1.06</td>\n",
              "      <td></td>\n",
              "      <td>MU:200 na pole</td>\n",
              "      <td></td>\n",
              "      <td></td>\n",
              "    </tr>\n",
              "  </tbody>\n",
              "</table>\n",
              "</div>\n",
              "      <button class=\"colab-df-convert\" onclick=\"convertToInteractive('df-eae17f64-c272-4a6b-9898-487ce82bc342')\"\n",
              "              title=\"Convert this dataframe to an interactive table.\"\n",
              "              style=\"display:none;\">\n",
              "\n",
              "  <svg xmlns=\"http://www.w3.org/2000/svg\" height=\"24px\"viewBox=\"0 0 24 24\"\n",
              "       width=\"24px\">\n",
              "    <path d=\"M0 0h24v24H0V0z\" fill=\"none\"/>\n",
              "    <path d=\"M18.56 5.44l.94 2.06.94-2.06 2.06-.94-2.06-.94-.94-2.06-.94 2.06-2.06.94zm-11 1L8.5 8.5l.94-2.06 2.06-.94-2.06-.94L8.5 2.5l-.94 2.06-2.06.94zm10 10l.94 2.06.94-2.06 2.06-.94-2.06-.94-.94-2.06-.94 2.06-2.06.94z\"/><path d=\"M17.41 7.96l-1.37-1.37c-.4-.4-.92-.59-1.43-.59-.52 0-1.04.2-1.43.59L10.3 9.45l-7.72 7.72c-.78.78-.78 2.05 0 2.83L4 21.41c.39.39.9.59 1.41.59.51 0 1.02-.2 1.41-.59l7.78-7.78 2.81-2.81c.8-.78.8-2.07 0-2.86zM5.41 20L4 18.59l7.72-7.72 1.47 1.35L5.41 20z\"/>\n",
              "  </svg>\n",
              "      </button>\n",
              "\n",
              "\n",
              "\n",
              "    <div id=\"df-fc763c20-cc3c-4d95-aeb4-1a97f2bb556b\">\n",
              "      <button class=\"colab-df-quickchart\" onclick=\"quickchart('df-fc763c20-cc3c-4d95-aeb4-1a97f2bb556b')\"\n",
              "              title=\"Suggest charts.\"\n",
              "              style=\"display:none;\">\n",
              "\n",
              "<svg xmlns=\"http://www.w3.org/2000/svg\" height=\"24px\"viewBox=\"0 0 24 24\"\n",
              "     width=\"24px\">\n",
              "    <g>\n",
              "        <path d=\"M19 3H5c-1.1 0-2 .9-2 2v14c0 1.1.9 2 2 2h14c1.1 0 2-.9 2-2V5c0-1.1-.9-2-2-2zM9 17H7v-7h2v7zm4 0h-2V7h2v10zm4 0h-2v-4h2v4z\"/>\n",
              "    </g>\n",
              "</svg>\n",
              "      </button>\n",
              "    </div>\n",
              "\n",
              "<style>\n",
              "  .colab-df-quickchart {\n",
              "    background-color: #E8F0FE;\n",
              "    border: none;\n",
              "    border-radius: 50%;\n",
              "    cursor: pointer;\n",
              "    display: none;\n",
              "    fill: #1967D2;\n",
              "    height: 32px;\n",
              "    padding: 0 0 0 0;\n",
              "    width: 32px;\n",
              "  }\n",
              "\n",
              "  .colab-df-quickchart:hover {\n",
              "    background-color: #E2EBFA;\n",
              "    box-shadow: 0px 1px 2px rgba(60, 64, 67, 0.3), 0px 1px 3px 1px rgba(60, 64, 67, 0.15);\n",
              "    fill: #174EA6;\n",
              "  }\n",
              "\n",
              "  [theme=dark] .colab-df-quickchart {\n",
              "    background-color: #3B4455;\n",
              "    fill: #D2E3FC;\n",
              "  }\n",
              "\n",
              "  [theme=dark] .colab-df-quickchart:hover {\n",
              "    background-color: #434B5C;\n",
              "    box-shadow: 0px 1px 3px 1px rgba(0, 0, 0, 0.15);\n",
              "    filter: drop-shadow(0px 1px 2px rgba(0, 0, 0, 0.3));\n",
              "    fill: #FFFFFF;\n",
              "  }\n",
              "</style>\n",
              "\n",
              "    <script>\n",
              "      async function quickchart(key) {\n",
              "        const containerElement = document.querySelector('#' + key);\n",
              "        const charts = await google.colab.kernel.invokeFunction(\n",
              "            'suggestCharts', [key], {});\n",
              "      }\n",
              "    </script>\n",
              "\n",
              "      <script>\n",
              "\n",
              "function displayQuickchartButton(domScope) {\n",
              "  let quickchartButtonEl =\n",
              "    domScope.querySelector('#df-fc763c20-cc3c-4d95-aeb4-1a97f2bb556b button.colab-df-quickchart');\n",
              "  quickchartButtonEl.style.display =\n",
              "    google.colab.kernel.accessAllowed ? 'block' : 'none';\n",
              "}\n",
              "\n",
              "        displayQuickchartButton(document);\n",
              "      </script>\n",
              "      <style>\n",
              "    .colab-df-container {\n",
              "      display:flex;\n",
              "      flex-wrap:wrap;\n",
              "      gap: 12px;\n",
              "    }\n",
              "\n",
              "    .colab-df-convert {\n",
              "      background-color: #E8F0FE;\n",
              "      border: none;\n",
              "      border-radius: 50%;\n",
              "      cursor: pointer;\n",
              "      display: none;\n",
              "      fill: #1967D2;\n",
              "      height: 32px;\n",
              "      padding: 0 0 0 0;\n",
              "      width: 32px;\n",
              "    }\n",
              "\n",
              "    .colab-df-convert:hover {\n",
              "      background-color: #E2EBFA;\n",
              "      box-shadow: 0px 1px 2px rgba(60, 64, 67, 0.3), 0px 1px 3px 1px rgba(60, 64, 67, 0.15);\n",
              "      fill: #174EA6;\n",
              "    }\n",
              "\n",
              "    [theme=dark] .colab-df-convert {\n",
              "      background-color: #3B4455;\n",
              "      fill: #D2E3FC;\n",
              "    }\n",
              "\n",
              "    [theme=dark] .colab-df-convert:hover {\n",
              "      background-color: #434B5C;\n",
              "      box-shadow: 0px 1px 3px 1px rgba(0, 0, 0, 0.15);\n",
              "      filter: drop-shadow(0px 1px 2px rgba(0, 0, 0, 0.3));\n",
              "      fill: #FFFFFF;\n",
              "    }\n",
              "  </style>\n",
              "\n",
              "      <script>\n",
              "        const buttonEl =\n",
              "          document.querySelector('#df-eae17f64-c272-4a6b-9898-487ce82bc342 button.colab-df-convert');\n",
              "        buttonEl.style.display =\n",
              "          google.colab.kernel.accessAllowed ? 'block' : 'none';\n",
              "\n",
              "        async function convertToInteractive(key) {\n",
              "          const element = document.querySelector('#df-eae17f64-c272-4a6b-9898-487ce82bc342');\n",
              "          const dataTable =\n",
              "            await google.colab.kernel.invokeFunction('convertToInteractive',\n",
              "                                                     [key], {});\n",
              "          if (!dataTable) return;\n",
              "\n",
              "          const docLinkHtml = 'Like what you see? Visit the ' +\n",
              "            '<a target=\"_blank\" href=https://colab.research.google.com/notebooks/data_table.ipynb>data table notebook</a>'\n",
              "            + ' to learn more about interactive tables.';\n",
              "          element.innerHTML = '';\n",
              "          dataTable['output_type'] = 'display_data';\n",
              "          await google.colab.output.renderOutput(dataTable, element);\n",
              "          const docLink = document.createElement('div');\n",
              "          docLink.innerHTML = docLinkHtml;\n",
              "          element.appendChild(docLink);\n",
              "        }\n",
              "      </script>\n",
              "    </div>\n",
              "  </div>\n"
            ]
          },
          "metadata": {},
          "execution_count": 13
        }
      ]
    },
    {
      "cell_type": "code",
      "source": [
        "import fillpdf\n",
        "from fillpdf import fillpdfs"
      ],
      "metadata": {
        "id": "iK65GOaN4a-1"
      },
      "execution_count": 14,
      "outputs": []
    },
    {
      "cell_type": "code",
      "source": [
        "input_pdf_path = \"template.pdf\"\n",
        "output_pdf_path = f\"template {cislo_merania}.pdf\""
      ],
      "metadata": {
        "id": "t5opjzXdTQ-1"
      },
      "execution_count": 15,
      "outputs": []
    },
    {
      "cell_type": "code",
      "source": [
        "dict_boxes = fillpdfs.get_form_fields(input_pdf_path, sort=False, page_number=None)"
      ],
      "metadata": {
        "id": "UQzLZ4IuDdEn"
      },
      "execution_count": 16,
      "outputs": []
    },
    {
      "cell_type": "code",
      "source": [
        "df[\"Dávka\"].values"
      ],
      "metadata": {
        "colab": {
          "base_uri": "https://localhost:8080/"
        },
        "id": "YPj4wMKDnQ93",
        "outputId": "de29089d-3e6b-46ff-d296-80b1b3a4a4ca"
      },
      "execution_count": 17,
      "outputs": [
        {
          "output_type": "execute_result",
          "data": {
            "text/plain": [
              "array(['1.29', '1.27', '0.18', '0.39', '1.06', '1.11', '1.25', '1.26',\n",
              "       '1.29', '1.19', '1.63', '0.92', '0.04', '0.73', '1.20', '1.09',\n",
              "       '1.47', '1.34', '1.28', '1.15', '1.50', '0.03', '1.36', '0.86',\n",
              "       '1.29', '1.34', '1.40', '1.45', '1.17', '0.59', '0.94', '1.69',\n",
              "       '0.26', '1.55', '1.43', '1.75', '0.37', '0.00', '0.97', '2.05',\n",
              "       '0.41', '1.48', '0.03', '1.03', '1.54', '0.98', '0.90', '1.45',\n",
              "       '1.43', '1.29', '1.05', '1.44', '1.34', '1.38', '1.20', '0.06',\n",
              "       '0.10', '0.00', ''], dtype=object)"
            ]
          },
          "metadata": {},
          "execution_count": 17
        }
      ]
    },
    {
      "cell_type": "code",
      "source": [
        "# Fills array with Dose (davka) and count numbers (Ri)\n",
        "davka = df[\"Dávka\"].values\n",
        "Ri = df[\"Ri\"].values"
      ],
      "metadata": {
        "id": "V4Fxl2Q2na-n"
      },
      "execution_count": 18,
      "outputs": []
    },
    {
      "cell_type": "code",
      "source": [
        "# This walks step by ste by each fillable box\n",
        "# This part of the code is painfull to see so please clean your eyes afterwards\n",
        "\n",
        "for id, box_name in enumerate(dict_boxes):\n",
        "  if (id < 57):\n",
        "    dict_boxes[box_name] = davka[id]\n",
        "  elif ((id>= 57) & (id<114)):\n",
        "    dict_boxes[box_name] = Ri[id-57]\n",
        "  else:\n",
        "    dict_boxes[box_name] = davka[id-114]"
      ],
      "metadata": {
        "id": "nCqJOCWqSU3M"
      },
      "execution_count": 19,
      "outputs": []
    },
    {
      "cell_type": "code",
      "source": [
        "# Fills Pdf\n",
        "fillpdfs.write_fillable_pdf(input_pdf_path, output_pdf_path, dict_boxes , flatten=False)"
      ],
      "metadata": {
        "id": "-fADUW-qDugX"
      },
      "execution_count": 20,
      "outputs": []
    },
    {
      "cell_type": "code",
      "source": [
        "# Dowload PDF\n",
        "\n",
        "from google.colab import files\n",
        "files.download(output_pdf_path)"
      ],
      "metadata": {
        "id": "kuRCpb6UhBtZ",
        "colab": {
          "base_uri": "https://localhost:8080/",
          "height": 17
        },
        "outputId": "550dc38f-a792-4bfb-bf83-ea41208e634c"
      },
      "execution_count": 21,
      "outputs": [
        {
          "output_type": "display_data",
          "data": {
            "text/plain": [
              "<IPython.core.display.Javascript object>"
            ],
            "application/javascript": [
              "\n",
              "    async function download(id, filename, size) {\n",
              "      if (!google.colab.kernel.accessAllowed) {\n",
              "        return;\n",
              "      }\n",
              "      const div = document.createElement('div');\n",
              "      const label = document.createElement('label');\n",
              "      label.textContent = `Downloading \"${filename}\": `;\n",
              "      div.appendChild(label);\n",
              "      const progress = document.createElement('progress');\n",
              "      progress.max = size;\n",
              "      div.appendChild(progress);\n",
              "      document.body.appendChild(div);\n",
              "\n",
              "      const buffers = [];\n",
              "      let downloaded = 0;\n",
              "\n",
              "      const channel = await google.colab.kernel.comms.open(id);\n",
              "      // Send a message to notify the kernel that we're ready.\n",
              "      channel.send({})\n",
              "\n",
              "      for await (const message of channel.messages) {\n",
              "        // Send a message to notify the kernel that we're ready.\n",
              "        channel.send({})\n",
              "        if (message.buffers) {\n",
              "          for (const buffer of message.buffers) {\n",
              "            buffers.push(buffer);\n",
              "            downloaded += buffer.byteLength;\n",
              "            progress.value = downloaded;\n",
              "          }\n",
              "        }\n",
              "      }\n",
              "      const blob = new Blob(buffers, {type: 'application/binary'});\n",
              "      const a = document.createElement('a');\n",
              "      a.href = window.URL.createObjectURL(blob);\n",
              "      a.download = filename;\n",
              "      div.appendChild(a);\n",
              "      a.click();\n",
              "      div.remove();\n",
              "    }\n",
              "  "
            ]
          },
          "metadata": {}
        },
        {
          "output_type": "display_data",
          "data": {
            "text/plain": [
              "<IPython.core.display.Javascript object>"
            ],
            "application/javascript": [
              "download(\"download_5bf74c00-0395-4220-a610-3437b402fe52\", \"template 4.pdf\", 439767)"
            ]
          },
          "metadata": {}
        }
      ]
    }
  ]
}